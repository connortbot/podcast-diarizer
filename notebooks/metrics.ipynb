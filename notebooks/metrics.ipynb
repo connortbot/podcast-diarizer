{
 "cells": [
  {
   "cell_type": "code",
   "execution_count": 62,
   "metadata": {},
   "outputs": [
    {
     "name": "stdout",
     "output_type": "stream",
     "text": [
      "Diarization Error Rate (DER): 18.42%\n"
     ]
    }
   ],
   "source": [
    "from pyannote.metrics.diarization import DiarizationErrorRate\n",
    "from pyannote.core import Annotation, Segment\n",
    "\n",
    "\n",
    "def load_rttm_to_annotation(rttm_file):\n",
    "    annotation = Annotation()\n",
    "    with open(rttm_file, 'r') as file:\n",
    "        for line in file:\n",
    "            parts = line.strip().split()\n",
    "\n",
    "            start_time = float(parts[3])\n",
    "            duration = float(parts[4])\n",
    "            end_time = start_time + duration\n",
    "            speaker = parts[7]\n",
    "            segment = Segment(start_time, end_time)\n",
    "            annotation[segment] = speaker\n",
    "    return annotation\n",
    "\n",
    "def calculate_der(reference_rttm, hypothesis_rttm):\n",
    "    reference = load_rttm_to_annotation(reference_rttm)\n",
    "    hypothesis = load_rttm_to_annotation(hypothesis_rttm)\n",
    "    \n",
    "    # Initialize DiarizationErrorRate metric\n",
    "    metric = DiarizationErrorRate()\n",
    "    \n",
    "    # Compute DER\n",
    "    der = metric(reference, hypothesis)\n",
    "    return der\n",
    "\n",
    "\n",
    "reference_rttm = \"notebooks/transcript.rttm\"  # Path to the reference RTTM file\n",
    "hypothesis_rttm = \"notebooks/agglo-constrained_transcript.rttm\"  # Path to the hypothesis RTTM file\n",
    "\n",
    "der = calculate_der(reference_rttm, hypothesis_rttm)\n",
    "print(f\"Diarization Error Rate (DER): {der:.2%}\")\n"
   ]
  }
 ],
 "metadata": {
  "kernelspec": {
   "display_name": "Python 3 (ipykernel)",
   "language": "python",
   "name": "python3"
  },
  "language_info": {
   "codemirror_mode": {
    "name": "ipython",
    "version": 3
   },
   "file_extension": ".py",
   "mimetype": "text/x-python",
   "name": "python",
   "nbconvert_exporter": "python",
   "pygments_lexer": "ipython3",
   "version": "3.12.5"
  }
 },
 "nbformat": 4,
 "nbformat_minor": 2
}
