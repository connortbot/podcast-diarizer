{
 "cells": [
  {
   "cell_type": "markdown",
   "metadata": {},
   "source": [
    "# Segmentation"
   ]
  },
  {
   "cell_type": "code",
   "execution_count": 3,
   "metadata": {},
   "outputs": [],
   "source": [
    "import whisper\n",
    "import torch\n",
    "\n",
    "torch.cuda.is_available()\n",
    "\n",
    "device = \"cuda\" if torch.cuda.is_available() else \"cpu\"\n",
    "print(device)\n",
    "\n",
    "# Load resources\n",
    "model = whisper.load_model(\"base\").to(device)\n",
    "\n",
    "result = model.transcribe('./eleven/11.mp3')\n",
    "segments = result['segments']\n",
    "\n",
    "print(segments)"
   ]
  },
  {
   "cell_type": "markdown",
   "metadata": {},
   "source": [
    "# Embedding"
   ]
  },
  {
   "cell_type": "code",
   "execution_count": null,
   "metadata": {},
   "outputs": [
    {
     "name": "stderr",
     "output_type": "stream",
     "text": [
      "C:\\Users\\loico\\Desktop\\podcast-diarizer\\venv\\Lib\\site-packages\\tqdm\\auto.py:21: TqdmWarning: IProgress not found. Please update jupyter and ipywidgets. See https://ipywidgets.readthedocs.io/en/stable/user_install.html\n",
      "  from .autonotebook import tqdm as notebook_tqdm\n"
     ]
    }
   ],
   "source": [
    "import pyannote.audio\n",
    "from pyannote.audio.pipelines.speaker_verification import PretrainedSpeakerEmbedding\n",
    "embedding_model = PretrainedSpeakerEmbedding(\n",
    "    \"speechbrain/spkrec-ecapa-voxceleb\",\n",
    "    device=torch.device(device))\n",
    "\n",
    "import wave\n",
    "\n",
    "import numpy as np\n",
    "\n",
    "from pyannote.audio import Audio\n",
    "from pyannote.core import Segment\n",
    "audio = Audio(sample_rate=16000, mono=\"downmix\")\n",
    "\n",
    "audio_path = 'notebooks/11.wav'\n",
    "\n",
    "# Calculate duration\n",
    "with wave.open(audio_path, 'r') as f:\n",
    "    duration = f.getnframes() / float(f.getframerate())\n",
    "\n",
    "# Embedding creation function\n",
    "def create_segment_embedding(segment):\n",
    "    start = segment['start']\n",
    "    # True end of the segment, in case Whisper creates a segment beyond the duration.\n",
    "    end = min(duration, segment['end'])\n",
    "    block = Segment(start, end)\n",
    "    waveform, sample_rate = audio.crop(audio_path, block)\n",
    "\n",
    "    return embedding_model(waveform[None])\n",
    "\n",
    "# Shape of outputs for each embedding is (192,) so we init np.zeros with that size.\n",
    "\n",
    "# Create embeddings\n",
    "embeddings = np.zeros(shape=(len(segments), 192))\n",
    "for i in range(len(segments)):\n",
    "    embeddings[i] = create_segment_embedding(segments[i])\n",
    "embeddings = np.nan_to_num(embeddings)"
   ]
  },
  {
   "cell_type": "markdown",
   "metadata": {},
   "source": [
    "# Clustering"
   ]
  },
  {
   "cell_type": "code",
   "execution_count": null,
   "metadata": {},
   "outputs": [
    {
     "ename": "NameError",
     "evalue": "name 'embeddings' is not defined",
     "output_type": "error",
     "traceback": [
      "\u001b[1;31m---------------------------------------------------------------------------\u001b[0m",
      "\u001b[1;31mNameError\u001b[0m                                 Traceback (most recent call last)",
      "Cell \u001b[1;32mIn[1], line 3\u001b[0m\n\u001b[0;32m      1\u001b[0m \u001b[38;5;28;01mfrom\u001b[39;00m \u001b[38;5;21;01msklearn\u001b[39;00m\u001b[38;5;21;01m.\u001b[39;00m\u001b[38;5;21;01mcluster\u001b[39;00m \u001b[38;5;28;01mimport\u001b[39;00m AgglomerativeClustering\n\u001b[1;32m----> 3\u001b[0m agglo \u001b[38;5;241m=\u001b[39m AgglomerativeClustering(n_clusters\u001b[38;5;241m=\u001b[39m\u001b[38;5;28;01mNone\u001b[39;00m, distance_threshold\u001b[38;5;241m=\u001b[39m\u001b[38;5;241m1150\u001b[39m)\u001b[38;5;241m.\u001b[39mfit(\u001b[43membeddings\u001b[49m)\n\u001b[0;32m      4\u001b[0m labels \u001b[38;5;241m=\u001b[39m agglo\u001b[38;5;241m.\u001b[39mlabels_\n\u001b[0;32m      6\u001b[0m \u001b[38;5;66;03m# Number of speakers from cluster\u001b[39;00m\n",
      "\u001b[1;31mNameError\u001b[0m: name 'embeddings' is not defined"
     ]
    }
   ],
   "source": [
    "from sklearn.cluster import AgglomerativeClustering\n",
    "\n",
    "agglo = AgglomerativeClustering(n_clusters=None, distance_threshold=1150).fit(embeddings)\n",
    "labels = agglo.labels_\n",
    "\n",
    "# Number of speakers from cluster\n",
    "from collections import Counter\n",
    "print(f\"Number of Distinct Clusters: {len(Counter(labels).keys())}\")\n",
    "\n",
    "import datetime\n",
    "def time(secs):\n",
    "  return datetime.timedelta(seconds=round(secs))\n",
    "\n",
    "f = open(\"notebooks/base_transcript.txt\", \"w\")\n",
    "\n",
    "for i in range(len(segments)):\n",
    "    segments[i][\"speaker\"] = 'SPEAKER ' + str(labels[i] + 1)\n",
    "\n",
    "\n",
    "for (i, segment) in enumerate(segments):\n",
    "    if i == 0 or segments[i - 1][\"speaker\"] != segment[\"speaker\"]:\n",
    "        print(\"\\n\" + segment[\"speaker\"] + ' ' + str(time(segment[\"start\"])) + '\\n', end='')\n",
    "        f.write(\"\\n\" + segment[\"speaker\"] + ' ' + str(time(segment[\"start\"])) + '\\n')\n",
    "    \n",
    "    f.write(segment[\"text\"][1:] + ' ')\n",
    "    print(segment[\"text\"][1:] + ' ', end='')\n",
    "f.close()"
   ]
  }
 ],
 "metadata": {
  "kernelspec": {
   "display_name": "Python 3 (ipykernel)",
   "language": "python",
   "name": "python3"
  }
 },
 "nbformat": 4,
 "nbformat_minor": 2
}
